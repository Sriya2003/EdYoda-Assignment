{
 "cells": [
  {
   "cell_type": "markdown",
   "metadata": {},
   "source": [
    "# Assignment 1(Q1)"
   ]
  },
  {
   "cell_type": "code",
   "execution_count": 4,
   "metadata": {},
   "outputs": [
    {
     "name": "stdout",
     "output_type": "stream",
     "text": [
      "{'Name': 'Sriya', 'DOB': '13.06.2003', 'Height': '5.3', 'City': 'Berhampur', 'State': 'Odisha'}\n",
      "{'Name': 'Priya', 'DOB': '14.06.2003', 'Height': '5.1', 'City': 'Bhubaneswar', 'State': 'Odisha'}\n",
      "{'Name': 'Aditya', 'DOB': '02.02.2003', 'Height': '5.3', 'City': 'Berhampur', 'State': 'Odisha'}\n",
      "{'Name': 'Pooja', 'DOB': '07.02.2006', 'Height': '5.4', 'City': 'Puri', 'State': 'Odisha'}\n",
      "{'Name': 'Gopal', 'DOB': '22.09.1997', 'Height': '5.6', 'City': 'cuttack', 'State': 'Odisha'}\n"
     ]
    }
   ],
   "source": [
    "import json\n",
    "employee={    \n",
    "    \"employee_details\":[\n",
    "        {\n",
    "         \"Name\": \"Sriya\",\n",
    "         \"DOB\": \"13.06.2003\",\n",
    "         \"Height\": \"5.3\",\n",
    "         \"City\": \"Berhampur\",\n",
    "         \"State\": \"Odisha\"\n",
    "        },\n",
    "       {\n",
    "         \"Name\": \"Priya\",\n",
    "         \"DOB\": \"14.06.2003\",\n",
    "         \"Height\": \"5.1\",\n",
    "         \"City\": \"Bhubaneswar\",\n",
    "         \"State\": \"Odisha\"\n",
    "      },\n",
    "      {\n",
    "         \"Name\": \"Aditya\",\n",
    "         \"DOB\": \"02.02.2003\",\n",
    "         \"Height\": \"5.3\",\n",
    "         \"City\": \"Berhampur\",\n",
    "         \"State\": \"Odisha\"\n",
    "       },\n",
    "       {\n",
    "         \"Name\": \"Pooja\",\n",
    "         \"DOB\": \"07.02.2006\",\n",
    "         \"Height\": \"5.4\",\n",
    "         \"City\": \"Puri\",\n",
    "         \"State\": \"Odisha\"\n",
    "       },\n",
    "       {\n",
    "         \"Name\": \"Gopal\",\n",
    "         \"DOB\": \"22.09.1997\",\n",
    "         \"Height\": \"5.6\",\n",
    "         \"City\": \"cuttack\",\n",
    "         \"State\": \"Odisha\"\n",
    "       }]\n",
    "}\n",
    "with open(\"employee.json\",\"w\") as outfile:\n",
    "    json.dump(employee,outfile,indent=2)\n",
    "f = open('employee.json', \"r\")\n",
    "data = json.loads(f.read())\n",
    "for i in data[\"employee_details\"]:\n",
    "    print(i)\n",
    "f.close()\n"
   ]
  },
  {
   "cell_type": "markdown",
   "metadata": {},
   "source": [
    "# Assignment-1(Q2)"
   ]
  },
  {
   "cell_type": "code",
   "execution_count": 6,
   "metadata": {},
   "outputs": [
    {
     "name": "stdout",
     "output_type": "stream",
     "text": [
      "File is Generated\n"
     ]
    }
   ],
   "source": [
    "#Create a dictionary of any 7 Indian states and their capitals. Write this into a JSON file.\n",
    "import json\n",
    "\n",
    "indian_states_capitals = {\n",
    "    \"Andhra Pradesh\": \"Amaravati\",\n",
    "    \"Arunachal Pradesh\": \"Itanagar\",\n",
    "    \"Assam\": \"Dispur\",\n",
    "    \"Bihar\": \"Patna\",\n",
    "    \"Chhattisgarh\": \"Raipur\",\n",
    "    \"Goa\": \"Panaji\",\n",
    "    \"Gujarat\": \"Gandhinagar\"\n",
    "}\n",
    "\n",
    "with open('indian_states_capitals.json', 'w') as json_file:\n",
    "    json.dump(indian_states_capitals,json_file,indent=4)\n",
    "print(\"File is Generated\")"
   ]
  },
  {
   "cell_type": "markdown",
   "metadata": {},
   "source": [
    "# Assignment 2"
   ]
  },
  {
   "cell_type": "code",
   "execution_count": 3,
   "metadata": {},
   "outputs": [
    {
     "name": "stdout",
     "output_type": "stream",
     "text": [
      "name of the Dog is :  Jackson\n",
      "age of the dog is : 5\n",
      "coat color of the dog is : White\n",
      "height of Jack Russell Terrier is : 20-30 cm\n",
      "weight of Jack Russell Terrier is : 8-10 kg\n",
      "overall bodylength of Jack Russell  Terrier is : 40-50cm\n",
      "Temprament of dog breed is Intelligent, Stubbon, Fearless\n",
      "\n",
      "name of the Dog is :  Heather\n",
      "age of the dog is : 7\n",
      "coat color of the dog is : Brown & White\n",
      "height of Bulldog is : 31-40 cm\n",
      "weight of Bulldog is : 23-25 kg\n",
      "overall bodylength of Bulldog is : 51-69 cm\n",
      "Temprament of this dog breed is Docile, Friendly, Gregacious\n"
     ]
    }
   ],
   "source": [
    "# 1. Create a class named ‘Dog’. It should have a constructor which accepts its name, age and coat color.\n",
    "\n",
    "class Dog:\n",
    "    def __init__(self,name, age, coat_color):\n",
    "        self.name=name\n",
    "        self.age=age\n",
    "        self.coat_color=coat_color\n",
    "    def description(self):\n",
    "        print(f\"name of the Dog is :  {self.name}\")\n",
    "        print(f\"age of the dog is : {self.age}\")\n",
    "    def get_info(self):\n",
    "        print(f'coat color of the dog is : {self.coat_color}')\n",
    "        \n",
    "class JackRussellTerrier(Dog):\n",
    "    def __init__(self,name, age, coat_color,height=\"20-30 cm\",mass=\"8-10 kg\",bodylength=\"40-50cm\"):\n",
    "        super().__init__(name, age, coat_color)\n",
    "        self.height=height\n",
    "        self.mass=mass\n",
    "        self.bodylength=bodylength\n",
    "    def lifespan(self,lifeline=\"Lifespan of this dog breed is 10-12 years\"):\n",
    "        print(lifeline)\n",
    "    def temprament(self):\n",
    "        temper=\"Temprament of dog breed is Intelligent, Stubbon, Fearless\"\n",
    "        print(temper)\n",
    "    def getappearance(self):\n",
    "        print(f\"height of Jack Russell Terrier is : {self.height}\")\n",
    "        print(f\"weight of Jack Russell Terrier is : {self.mass}\")\n",
    "        print(f\"overall bodylength of Jack Russell  Terrier is : {self.bodylength}\")\n",
    "         \n",
    "class Bulldog(Dog):\n",
    "    def __init__(self,name, age, coat_color,height=\"31-40 cm\",mass=\"23-25 kg\",bodylength=\"51-69 cm\"):\n",
    "        super().__init__(name, age, coat_color)\n",
    "        self.height=height\n",
    "        self.mass=mass\n",
    "        self.bodylength=bodylength\n",
    "    def lifespan(self):\n",
    "        lifeline=\"Lifespan of this dog breed is : 6-8 years\"\n",
    "        print(lifeline)\n",
    "    def temprament(self):\n",
    "        temper=\"Temprament of this dog breed is Docile, Friendly, Gregacious\"\n",
    "        print(temper)\n",
    "    def getappearance(self):\n",
    "        print(f\"height of Bulldog is : {self.height}\")\n",
    "        print(f\"weight of Bulldog is : {self.mass}\")\n",
    "        print(f\"overall bodylength of Bulldog is : {self.bodylength}\")\n",
    "        \n",
    "J=JackRussellTerrier(\"Jackson\",5,\"White\")\n",
    "J.description()\n",
    "J.get_info()\n",
    "J.getappearance()\n",
    "J.temprament()\n",
    "print()\n",
    "B=Bulldog(\"Heather\", 7, \"Brown & White\")\n",
    "B.description()\n",
    "B.get_info()\n",
    "B.getappearance()\n",
    "B.temprament()\n"
   ]
  },
  {
   "cell_type": "code",
   "execution_count": null,
   "metadata": {},
   "outputs": [],
   "source": []
  }
 ],
 "metadata": {
  "kernelspec": {
   "display_name": "Python 3 (ipykernel)",
   "language": "python",
   "name": "python3"
  },
  "language_info": {
   "codemirror_mode": {
    "name": "ipython",
    "version": 3
   },
   "file_extension": ".py",
   "mimetype": "text/x-python",
   "name": "python",
   "nbconvert_exporter": "python",
   "pygments_lexer": "ipython3",
   "version": "3.9.13"
  }
 },
 "nbformat": 4,
 "nbformat_minor": 2
}
