{
 "cells": [
  {
   "cell_type": "code",
   "execution_count": null,
   "id": "f9feb72e",
   "metadata": {},
   "outputs": [],
   "source": [
    "import numpy as np"
   ]
  },
  {
   "cell_type": "markdown",
   "id": "46978123",
   "metadata": {},
   "source": [
    "# 1. Create a null vector of size 10 but the fifth value which is 1."
   ]
  },
  {
   "cell_type": "code",
   "execution_count": 1,
   "id": "78b7109f",
   "metadata": {},
   "outputs": [
    {
     "name": "stdout",
     "output_type": "stream",
     "text": [
      "[0. 0. 0. 0. 1. 0. 0. 0. 0. 0.]\n"
     ]
    }
   ],
   "source": [
    "import numpy as np\n",
    "z = np.zeros(10)\n",
    "z[4] = 1\n",
    "print(z)"
   ]
  },
  {
   "cell_type": "markdown",
   "id": "2a09eab5",
   "metadata": {},
   "source": [
    "# 2. Create a vector with values ranging from 10 to 49."
   ]
  },
  {
   "cell_type": "code",
   "execution_count": 4,
   "id": "2f27c182",
   "metadata": {},
   "outputs": [
    {
     "name": "stdout",
     "output_type": "stream",
     "text": [
      "[10 11 12 13 14 15 16 17 18 19 20 21 22 23 24 25 26 27 28 29 30 31 32 33\n",
      " 34 35 36 37 38 39 40 41 42 43 44 45 46 47 48 49]\n"
     ]
    }
   ],
   "source": [
    "import numpy as np\n",
    "z = np.arange(10,50)\n",
    "print(z)"
   ]
  },
  {
   "cell_type": "markdown",
   "id": "145fb885",
   "metadata": {},
   "source": [
    "# 3. Create a 3x3 matrix with values ranging from 0 to 8"
   ]
  },
  {
   "cell_type": "code",
   "execution_count": 5,
   "id": "80ff2ef8",
   "metadata": {},
   "outputs": [
    {
     "name": "stdout",
     "output_type": "stream",
     "text": [
      "[[0 1 2]\n",
      " [3 4 5]\n",
      " [6 7 8]]\n"
     ]
    }
   ],
   "source": [
    "import numpy as np\n",
    "z = np.arange(9).reshape(3,3)\n",
    "print(z)"
   ]
  },
  {
   "cell_type": "markdown",
   "id": "c820ad47",
   "metadata": {},
   "source": [
    "# 4. Find indices of non-zero elements from [1,2,0,0,4,0]"
   ]
  },
  {
   "cell_type": "code",
   "execution_count": 6,
   "id": "a09c607d",
   "metadata": {},
   "outputs": [
    {
     "name": "stdout",
     "output_type": "stream",
     "text": [
      "[0, 1, 4]\n"
     ]
    }
   ],
   "source": [
    "import numpy as np\n",
    "l = [1,2,0,0,4,0]\n",
    "z = np.array(l)\n",
    "l_new = list(np.nonzero(z)[0])\n",
    "print(l_new)"
   ]
  },
  {
   "cell_type": "markdown",
   "id": "8ec28a70",
   "metadata": {},
   "source": [
    "# 5. Create a 10x10 array with random values and find the minimum and maximum values."
   ]
  },
  {
   "cell_type": "code",
   "execution_count": 7,
   "id": "6d5ef7bb",
   "metadata": {},
   "outputs": [
    {
     "name": "stdout",
     "output_type": "stream",
     "text": [
      "[[0.42949837 0.17204562 0.02767717 0.82581256 0.40857428 0.80325769\n",
      "  0.35339112 0.71304338 0.16168547 0.01300464]\n",
      " [0.0304829  0.08480196 0.53357948 0.00984763 0.01098042 0.04337247\n",
      "  0.79963911 0.19294616 0.85725699 0.51759181]\n",
      " [0.88520347 0.79583799 0.57069241 0.13456672 0.65019523 0.79740419\n",
      "  0.77140768 0.98957818 0.01400008 0.63390695]\n",
      " [0.47839687 0.69682696 0.84815347 0.1808463  0.25493725 0.15498524\n",
      "  0.17553026 0.63911186 0.62241227 0.71413353]\n",
      " [0.80059047 0.85993502 0.47831105 0.21368172 0.32392133 0.46074865\n",
      "  0.87376175 0.70698835 0.16326021 0.69269182]\n",
      " [0.07676764 0.86199229 0.26163998 0.79090637 0.98844414 0.35991311\n",
      "  0.85880251 0.18220208 0.94158452 0.81432384]\n",
      " [0.38879945 0.95656129 0.05163185 0.83293879 0.96807787 0.20840269\n",
      "  0.06805659 0.89851282 0.83485148 0.24171782]\n",
      " [0.09800857 0.76803516 0.15164704 0.19885593 0.3759305  0.18906331\n",
      "  0.42359123 0.65186654 0.08287138 0.93171036]\n",
      " [0.49157001 0.68492704 0.19431015 0.04863132 0.45096103 0.5977837\n",
      "  0.28206756 0.03509152 0.43098306 0.69377851]\n",
      " [0.27361936 0.56139463 0.3503598  0.82406623 0.97165986 0.83136619\n",
      "  0.83321054 0.45137324 0.34120919 0.3062176 ]]\n",
      "minimum and maximum values:\n",
      "0.009847633703225278 0.9895781763701217\n"
     ]
    }
   ],
   "source": [
    "import numpy as np \n",
    "z = np.random.random((10,10))\n",
    "print(z)\n",
    "zmin,zmax = z.min(),z.max()\n",
    "print(\"minimum and maximum values:\")\n",
    "print(zmin,zmax)"
   ]
  },
  {
   "cell_type": "markdown",
   "id": "fcd512d9",
   "metadata": {},
   "source": [
    "# 6. Create a random vector of size 30 and find the mean value."
   ]
  },
  {
   "cell_type": "code",
   "execution_count": 8,
   "id": "8af0d769",
   "metadata": {},
   "outputs": [
    {
     "name": "stdout",
     "output_type": "stream",
     "text": [
      "0.5230990454495787\n"
     ]
    }
   ],
   "source": [
    "z = np.random.random(30)\n",
    "m =z.mean()\n",
    "print(m)"
   ]
  }
 ],
 "metadata": {
  "kernelspec": {
   "display_name": "Python 3 (ipykernel)",
   "language": "python",
   "name": "python3"
  },
  "language_info": {
   "codemirror_mode": {
    "name": "ipython",
    "version": 3
   },
   "file_extension": ".py",
   "mimetype": "text/x-python",
   "name": "python",
   "nbconvert_exporter": "python",
   "pygments_lexer": "ipython3",
   "version": "3.9.13"
  }
 },
 "nbformat": 4,
 "nbformat_minor": 5
}
