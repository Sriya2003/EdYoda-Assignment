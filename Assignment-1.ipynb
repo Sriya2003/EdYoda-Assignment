{
 "cells": [
  {
   "cell_type": "markdown",
   "id": "a387734f",
   "metadata": {},
   "source": [
    "# Question-1"
   ]
  },
  {
   "cell_type": "code",
   "execution_count": 1,
   "id": "dba3b1c3",
   "metadata": {},
   "outputs": [
    {
     "name": "stdout",
     "output_type": "stream",
     "text": [
      "Enter the starting number : 0\n",
      "Enter the ending number : 50\n",
      " Fibonacci No. is :  0 to 50\n",
      "0\n",
      "1\n",
      "1\n",
      "2\n",
      "3\n",
      "5\n",
      "8\n",
      "13\n",
      "21\n",
      "34\n"
     ]
    }
   ],
   "source": [
    "#rite a Python program to get the Fibonacci series between 0 to 50\n",
    "\n",
    "start=int(input(\"Enter the starting number : \"))\n",
    "end=int(input(\"Enter the ending number : \"))\n",
    "x=0\n",
    "y=1\n",
    "sum=0\n",
    "print(\" Fibonacci No. is : \", start,\"to\" ,end )\n",
    "while(sum<end):\n",
    "    x=y\n",
    "    y=sum\n",
    "    sum=x+y\n",
    "    print(y)\n",
    "print(end=\"\")\n"
   ]
  },
  {
   "cell_type": "markdown",
   "id": "34420de2",
   "metadata": {},
   "source": [
    "# Question-2"
   ]
  },
  {
   "cell_type": "code",
   "execution_count": 2,
   "id": "5e29490a",
   "metadata": {},
   "outputs": [
    {
     "name": "stdout",
     "output_type": "stream",
     "text": [
      "Input a word to reverse: Hello World\n",
      " Original Value :  Hello World\n",
      " Reversed value :  dlroW olleH\n"
     ]
    }
   ],
   "source": [
    "#Write a Python program that accepts a word from the user and reverse it.\n",
    "\n",
    "value_1 = input(\"Input a word to reverse: \")\n",
    "\n",
    "value_2 = \"\"\n",
    "\n",
    "for i in value_1:\n",
    "\n",
    "    value_2 = i + value_2\n",
    "    \n",
    "print(\" Original Value : \", value_1)\n",
    "print(\" Reversed value : \", value_2)"
   ]
  },
  {
   "cell_type": "markdown",
   "id": "df6acf93",
   "metadata": {},
   "source": [
    "# Question-3"
   ]
  },
  {
   "cell_type": "code",
   "execution_count": 1,
   "id": "43db462c",
   "metadata": {},
   "outputs": [
    {
     "name": "stdout",
     "output_type": "stream",
     "text": [
      "Enter series of Numbers : (1,2,3,4,5,6,7,8,9)\n",
      "Number of even numbers :  4\n",
      "Number of odd numbers :  5\n"
     ]
    }
   ],
   "source": [
    "#Write a Python program to count the number of even and odd numbers from a series of numbers.\n",
    "\n",
    "num=eval(input(\"Enter series of Numbers : \"))\n",
    "even=0\n",
    "odd=0\n",
    "for x in num:\n",
    "    if not x%2:\n",
    "        even+=1\n",
    "    else:\n",
    "        odd+=1\n",
    "print(\"Number of even numbers : \",even)\n",
    "print(\"Number of odd numbers : \",odd)"
   ]
  },
  {
   "cell_type": "code",
   "execution_count": null,
   "id": "bf8f0912",
   "metadata": {},
   "outputs": [],
   "source": []
  }
 ],
 "metadata": {
  "kernelspec": {
   "display_name": "Python 3 (ipykernel)",
   "language": "python",
   "name": "python3"
  },
  "language_info": {
   "codemirror_mode": {
    "name": "ipython",
    "version": 3
   },
   "file_extension": ".py",
   "mimetype": "text/x-python",
   "name": "python",
   "nbconvert_exporter": "python",
   "pygments_lexer": "ipython3",
   "version": "3.9.13"
  }
 },
 "nbformat": 4,
 "nbformat_minor": 5
}
