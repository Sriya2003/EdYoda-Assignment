{
 "cells": [
  {
   "cell_type": "markdown",
   "id": "0cdaee82",
   "metadata": {},
   "source": [
    "# Square Numbers and Return Their Sum (Question-1)"
   ]
  },
  {
   "cell_type": "code",
   "execution_count": 7,
   "id": "eff10c7a",
   "metadata": {},
   "outputs": [
    {
     "name": "stdout",
     "output_type": "stream",
     "text": [
      "Your First Number is :  1\n",
      "Your Second Number is :  3\n",
      "Your Third Number is :  5\n",
      "Your Square_Sum is : 35\n",
      "\n"
     ]
    }
   ],
   "source": [
    "class point:\n",
    "    def __init__(self,x,y,z):\n",
    "        self.x = x\n",
    "        self.y= y\n",
    "        self.z = z\n",
    "        print(\"Your First Number is : \",self.x)\n",
    "        print(\"Your Second Number is : \",self.y)\n",
    "        print(\"Your Third Number is : \",self.z)\n",
    "\n",
    "    def sqSum(self):\n",
    "        self.sumsquare = self.x**2+self.y**2+self.z**2\n",
    "        print(\"Your Square_Sum is : \",end=\"\")\n",
    "        return self.sumsquare\n",
    "    \n",
    "p = point(1,3,5)\n",
    "print(p.sqSum())\n",
    "print()"
   ]
  },
  {
   "cell_type": "markdown",
   "id": "cae00a4c",
   "metadata": {},
   "source": [
    "# Implement a Calculator Class (Question-2)"
   ]
  },
  {
   "cell_type": "code",
   "execution_count": 9,
   "id": "14370236",
   "metadata": {},
   "outputs": [
    {
     "name": "stdout",
     "output_type": "stream",
     "text": [
      "104\n",
      "84\n",
      "940\n",
      "9.4\n"
     ]
    }
   ],
   "source": [
    "class Calculator:\n",
    "    def __init__(self, num1, num2):\n",
    "        self.num1 = num1\n",
    "        self.num2 = num2\n",
    "\n",
    "    def add(self):\n",
    "        return self.num1 + self.num2\n",
    "\n",
    "    def subtract(self):\n",
    "        return self.num2 - self.num1\n",
    "\n",
    "    def multiply(self):\n",
    "        return self.num1 * self.num2\n",
    "\n",
    "    def divide(self):\n",
    "        return self.num2 / self.num1\n",
    "\n",
    "obj = Calculator(10, 94)\n",
    "print(obj.add()) \n",
    "print(obj.subtract()) \n",
    "print(obj.multiply()) \n",
    "print(obj.divide())"
   ]
  },
  {
   "cell_type": "markdown",
   "id": "4771575d",
   "metadata": {},
   "source": [
    "# Implement the Complete Student Class (Question-3)"
   ]
  },
  {
   "cell_type": "code",
   "execution_count": 34,
   "id": "9d603d39",
   "metadata": {},
   "outputs": [
    {
     "name": "stdout",
     "output_type": "stream",
     "text": [
      "Welcome to Edyoda Digital University \n",
      "\n",
      "Name :  Sriya Patro\n",
      "Roll Num. :  DS291122A\n",
      "\n"
     ]
    }
   ],
   "source": [
    "class Student:\n",
    "    collage_Name = \"Edyoda Digital University\"\n",
    "    def __init__(self,name=None,roll_num=None):\n",
    "        self__Name = name\n",
    "        self.__Roll_Num = roll_num\n",
    "        print(\"Welcome to\",Student.collage_Name,\"\\n\")\n",
    "    \n",
    "    def set_name(self,x):\n",
    "        self.__Name = x\n",
    "    \n",
    "    def get_name(self):\n",
    "        print(\"Name : \",self.__Name,end=\"\")\n",
    "        return \"\"\n",
    "    \n",
    "    def get_rollno(self):\n",
    "        print(\"Roll Num. : \",self.__Roll_Num)\n",
    "        return  \"\"\n",
    "    \n",
    "    def set_rollno(self,x):\n",
    "        self.__Roll_Num = x\n",
    "\n",
    "x = Student()\n",
    "x.set_name(\"Sriya Patro\")\n",
    "x.set_rollno(\"DS291122A\")\n",
    "print(x.get_name())\n",
    "print(x.get_rollno())"
   ]
  },
  {
   "cell_type": "markdown",
   "id": "252480d3",
   "metadata": {},
   "source": [
    "# Implement a Banking Account (Question-4)"
   ]
  },
  {
   "cell_type": "code",
   "execution_count": 36,
   "id": "e62146f8",
   "metadata": {},
   "outputs": [
    {
     "name": "stdout",
     "output_type": "stream",
     "text": [
      "Name :  Ashish\n",
      "Balance :  5000\n",
      "Interest is :  5\n"
     ]
    }
   ],
   "source": [
    "class Account:\n",
    "    def __init__(self,title=None,balance=0):\n",
    "        self.title = title\n",
    "        self.balance = balance\n",
    "\n",
    "\n",
    "class SavingBank(Account):\n",
    "    def __init__(self, title=None, balance=0,interest=0):\n",
    "        super().__init__(title, balance)\n",
    "        self.interest = interest\n",
    "        print(\"Name : \",title)\n",
    "        print(\"Balance : \",balance)\n",
    "        print(\"Interest is : \",self.interest)\n",
    "\n",
    "\n",
    "x = SavingBank(\"Ashish\",5000,5)\n"
   ]
  },
  {
   "cell_type": "markdown",
   "id": "7b849661",
   "metadata": {},
   "source": [
    "# Handling a Bank Account (Question-5)"
   ]
  },
  {
   "cell_type": "code",
   "execution_count": 8,
   "id": "caf38303",
   "metadata": {},
   "outputs": [
    {
     "name": "stdout",
     "output_type": "stream",
     "text": [
      "Welcome to  State Bank Of India\n",
      "Initial balance:  2000\n",
      "\n",
      "Welcome to  State Bank Of India\n",
      "After Deposit :  2500\n",
      "\n",
      "Welcome to  State Bank Of India\n",
      "After Withdraw : 1500\n",
      "\n",
      "Welcome to  State Bank Of India\n",
      "Interest amount is :  100.0\n"
     ]
    }
   ],
   "source": [
    "import sys\n",
    "class Acount:\n",
    "    Bank = \"State Bank Of India\"\n",
    "    def __init__(self,Title=  None,Balance=0):\n",
    "        self.Title = Title\n",
    "        self.Balance = Balance\n",
    "        print(\"Welcome to \",Acount.Bank)\n",
    "        \n",
    "    def deposite(self,deposit):\n",
    "        self.Balance = self.Balance+deposit\n",
    "        return  self.Balance\n",
    "\n",
    "    def withdraw(self,withdraw):\n",
    "        if self.Balance<withdraw:\n",
    "            print(\"Inficient Balance You Can't Withdraw \")\n",
    "            sys.exit()\n",
    "        else:\n",
    "            self.Balance = self.Balance-withdraw\n",
    "            return self.Balance\n",
    "\n",
    "    def get_balance(self):\n",
    "        return self.Balance\n",
    "\n",
    "class SavingAcount(Acount):\n",
    "    def __init__(self, Title=None, Balance=0,inerestRate=0):\n",
    "        super().__init__(Title, Balance)\n",
    "        self.interestRate = inerestRate\n",
    "        \n",
    "    def interestAmount(self):\n",
    "        self.interestRate = self.Balance*self.interestRate/100\n",
    "        return self.interestRate\n",
    "    \n",
    "#Task-1 \n",
    "a=SavingAcount(\"Ashish\",2000,5)\n",
    "print(\"Initial balance: \",a.get_balance())\n",
    "print()\n",
    "#Task-2\n",
    "a = SavingAcount(\"sriya\",2000,5)\n",
    "print(\"After Deposit : \" ,a.deposite(500))\n",
    "print()\n",
    "#Task-3\n",
    "a = SavingAcount(\"sriya\",2000,5)\n",
    "print(\"After Withdraw :\",a.withdraw(500))\n",
    "print()\n",
    "#Task-4\n",
    "a = SavingAcount(\"sriya\",2000,5)\n",
    "print(\"Interest amount is : \",a.interestAmount())"
   ]
  },
  {
   "cell_type": "code",
   "execution_count": null,
   "id": "99503250",
   "metadata": {},
   "outputs": [],
   "source": []
  },
  {
   "cell_type": "code",
   "execution_count": null,
   "id": "b0133ee3",
   "metadata": {},
   "outputs": [],
   "source": []
  }
 ],
 "metadata": {
  "kernelspec": {
   "display_name": "Python 3 (ipykernel)",
   "language": "python",
   "name": "python3"
  },
  "language_info": {
   "codemirror_mode": {
    "name": "ipython",
    "version": 3
   },
   "file_extension": ".py",
   "mimetype": "text/x-python",
   "name": "python",
   "nbconvert_exporter": "python",
   "pygments_lexer": "ipython3",
   "version": "3.9.13"
  }
 },
 "nbformat": 4,
 "nbformat_minor": 5
}
