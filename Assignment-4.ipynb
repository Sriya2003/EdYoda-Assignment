{
 "cells": [
  {
   "cell_type": "markdown",
   "id": "8cdf1ebd",
   "metadata": {},
   "source": [
    "# Question-1"
   ]
  },
  {
   "cell_type": "code",
   "execution_count": 1,
   "id": "b2414130",
   "metadata": {},
   "outputs": [
    {
     "name": "stdout",
     "output_type": "stream",
     "text": [
      "Sample input : 10\n",
      "Sample output :  35\n"
     ]
    }
   ],
   "source": [
    "# Write a Python program to create a lambda function that adds 25 to a given number passed in as an argument.\n",
    "# sample input: 10\n",
    "# sample output: 35\n",
    "\n",
    "x=int(input(\"Sample input : \"))\n",
    "y = lambda x : x + 25\n",
    "print(\"Sample output : \",y(x))"
   ]
  },
  {
   "cell_type": "markdown",
   "id": "b22565ff",
   "metadata": {},
   "source": [
    "# Question-2"
   ]
  },
  {
   "cell_type": "code",
   "execution_count": 2,
   "id": "e829d513",
   "metadata": {},
   "outputs": [
    {
     "name": "stdout",
     "output_type": "stream",
     "text": [
      "Sample list :  [1, 2, 3, 4, 5, 6, 7]\n",
      "Triple of list numbers are : \n",
      "[3, 6, 9, 12, 15, 18, 21]\n"
     ]
    }
   ],
   "source": [
    "# Write a Python program to triple all numbers of a given list of integers. Use Python map.\n",
    "# sample list: [1, 2, 3, 4, 5, 6, 7]\n",
    "# Triple of list numbers: [3, 6, 9, 12, 15, 18, 21]\n",
    "\n",
    "list1 = [1,2,3,4,5,6,7]\n",
    "print(\"Sample list : \", list1)\n",
    "triple_list = map(lambda x : x*3,list1) \n",
    "print(\"Triple of list numbers are : \")\n",
    "print(list(triple_list))"
   ]
  },
  {
   "cell_type": "markdown",
   "id": "65c6fb4b",
   "metadata": {},
   "source": [
    "# Question-3"
   ]
  },
  {
   "cell_type": "code",
   "execution_count": 3,
   "id": "0cc3b45e",
   "metadata": {},
   "outputs": [
    {
     "name": "stdout",
     "output_type": "stream",
     "text": [
      "Sample list :  [4, 5, 2, 9]\n",
      "Square the elements of the list : \n",
      "[16, 25, 4, 81]\n"
     ]
    }
   ],
   "source": [
    "# Write a Python program to square the elements of a list using map() function.\n",
    "# Sample List: [4, 5, 2, 9] \n",
    "# Square the elements of the list: [16, 25, 4, 81]\n",
    "\n",
    "list1 = [4,5,2,9]\n",
    "print(\"Sample list : \", list1)\n",
    "square_list = map(lambda x: x*x, list1) \n",
    "print(\"Square the elements of the list : \")\n",
    "print(list(square_list))\n"
   ]
  },
  {
   "cell_type": "code",
   "execution_count": null,
   "id": "be96ccff",
   "metadata": {},
   "outputs": [],
   "source": []
  }
 ],
 "metadata": {
  "kernelspec": {
   "display_name": "Python 3 (ipykernel)",
   "language": "python",
   "name": "python3"
  },
  "language_info": {
   "codemirror_mode": {
    "name": "ipython",
    "version": 3
   },
   "file_extension": ".py",
   "mimetype": "text/x-python",
   "name": "python",
   "nbconvert_exporter": "python",
   "pygments_lexer": "ipython3",
   "version": "3.9.13"
  }
 },
 "nbformat": 4,
 "nbformat_minor": 5
}
