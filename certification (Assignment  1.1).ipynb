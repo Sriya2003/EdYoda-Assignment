{
 "cells": [
  {
   "cell_type": "markdown",
   "id": "69789ddd",
   "metadata": {},
   "source": [
    "# Data Types"
   ]
  },
  {
   "cell_type": "code",
   "execution_count": null,
   "id": "ed515710",
   "metadata": {},
   "outputs": [],
   "source": [
    "#1. What is a data type?\n",
    "\n",
    "A data type is a classification of data that determines the type of values that a variable can hold."
   ]
  },
  {
   "cell_type": "code",
   "execution_count": null,
   "id": "9cb56ccf",
   "metadata": {},
   "outputs": [],
   "source": [
    "#2. What are the primitive data types in Python?\n",
    "\n",
    "The primitive data types in Python are integers, floating-point numbers, strings, booleans, and None."
   ]
  },
  {
   "cell_type": "code",
   "execution_count": null,
   "id": "1569bdd7",
   "metadata": {},
   "outputs": [],
   "source": [
    "#3. What is the difference between a float and an integer data type?\n",
    "\n",
    "Integers are whole numbers, while floats have decimal points. \n",
    "Integers are precise and accurate, while floats are not as precise or accurate."
   ]
  },
  {
   "cell_type": "code",
   "execution_count": null,
   "id": "a1484bcb",
   "metadata": {},
   "outputs": [],
   "source": [
    "#4. What is the difference between a list and a tuple data type?\n",
    "\n",
    "Lists are mutable, meaning that they can be changed, while tuples are immutable, \n",
    "meaning that they cannot be changed once they are created."
   ]
  },
  {
   "cell_type": "code",
   "execution_count": null,
   "id": "ac4bf808",
   "metadata": {},
   "outputs": [],
   "source": [
    "#5. What is a dictionary data type?\n",
    "\n",
    "A dictionary is an unordered collection of key-value pairs that allows you to store \n",
    "and retrieve data more efficiently than a list or tuple."
   ]
  },
  {
   "cell_type": "markdown",
   "id": "48fbced4",
   "metadata": {},
   "source": [
    "# Operators"
   ]
  },
  {
   "cell_type": "code",
   "execution_count": null,
   "id": "8cf1a39d",
   "metadata": {},
   "outputs": [],
   "source": [
    "#1. What is an operator in Python?\n",
    "\n",
    "An operator is a symbol or set of symbols that perform a specific operation on one or more operands."
   ]
  },
  {
   "cell_type": "code",
   "execution_count": null,
   "id": "564a6d35",
   "metadata": {},
   "outputs": [],
   "source": [
    "#2. What is the difference between the '==' and 'is' operators in Python?\n",
    "\n",
    "The '==' operator compares the values of two objects, while the 'is' operator compares the memory locations of two objects."
   ]
  },
  {
   "cell_type": "code",
   "execution_count": null,
   "id": "6bb82305",
   "metadata": {},
   "outputs": [],
   "source": [
    "# 3. What is the difference between the 'and' and 'or' logical operators in Python?\n",
    "\n",
    "The 'and' operator returns True if both operands are True, \n",
    "while the 'or' operator returns True if at least one of the operands is True."
   ]
  },
  {
   "cell_type": "code",
   "execution_count": null,
   "id": "2dac5d60",
   "metadata": {},
   "outputs": [],
   "source": [
    "# 4. What is the use of the 'in' operator in Python?\n",
    "\n",
    "The 'in' operator is used to check if a value exists in a sequence, such as a list or a string."
   ]
  },
  {
   "cell_type": "code",
   "execution_count": null,
   "id": "93d98594",
   "metadata": {},
   "outputs": [],
   "source": [
    "# 5. What is the modulo operator in Python?\n",
    "\n",
    "The modulo operator (%) returns the remainder of a division operation."
   ]
  },
  {
   "cell_type": "markdown",
   "id": "0f895116",
   "metadata": {},
   "source": [
    "# Conditional Statements"
   ]
  },
  {
   "cell_type": "code",
   "execution_count": null,
   "id": "53f765a8",
   "metadata": {},
   "outputs": [],
   "source": [
    "#1. What is a conditional statement?\n",
    "\n",
    "A conditional statement is a statement that performs a different action based on whether a certain condition is true or false."
   ]
  },
  {
   "cell_type": "code",
   "execution_count": null,
   "id": "da130bef",
   "metadata": {},
   "outputs": [],
   "source": [
    "#2. What is the syntax for an if statement in Python?\n",
    "\n",
    "\n",
    "The syntax for an if statement in Python is:\n",
    "    if condition:\n",
    "        # code to execute if the condition is true"
   ]
  },
  {
   "cell_type": "code",
   "execution_count": null,
   "id": "bee95759",
   "metadata": {},
   "outputs": [],
   "source": [
    "#3. What is the difference between an if statement and a switch statement?\n",
    "\n",
    "Python does not have a switch statement. Instead, you can use if-elif-else statements to achieve similar functionality."
   ]
  },
  {
   "cell_type": "code",
   "execution_count": null,
   "id": "2a6c2158",
   "metadata": {},
   "outputs": [],
   "source": [
    "#4. What is the difference between the 'if' and 'elif' statements in Python?\n",
    "\n",
    "The 'if' statement is used to check the first condition, \n",
    "while the 'elif' statement is used to check additional conditions after the first one has failed."
   ]
  },
  {
   "cell_type": "code",
   "execution_count": null,
   "id": "8bda01ef",
   "metadata": {},
   "outputs": [],
   "source": [
    "#5. How do you use nested if statements in Python?\n",
    "\n",
    "You can use nested if statements to check for multiple conditions. Here is an example:\n",
    "\n",
    "if condition1:\n",
    "    if condition2:\n",
    "        # code to execute if both conditions are true\n",
    "    else:\n",
    "        # code to execute if only condition1 is true\n",
    "else:\n",
    "    # code to execute if neither condition is true"
   ]
  },
  {
   "cell_type": "markdown",
   "id": "55962dc8",
   "metadata": {},
   "source": [
    "# Looping Statements"
   ]
  },
  {
   "cell_type": "code",
   "execution_count": null,
   "id": "d7102e56",
   "metadata": {},
   "outputs": [],
   "source": [
    "#1. What is a looping statement?\n",
    "\n",
    "A looping statement is a statement that executes a block of code repeatedly."
   ]
  },
  {
   "cell_type": "code",
   "execution_count": null,
   "id": "b226e8ca",
   "metadata": {},
   "outputs": [],
   "source": [
    "#2. What is the difference between a for loop and a while loop in Python?\n",
    "\n",
    "A for loop is used to iterate over a sequence of items, \n",
    "while a while loop is used to execute a block of code as long as a certain condition is true."
   ]
  },
  {
   "cell_type": "code",
   "execution_count": null,
   "id": "67312075",
   "metadata": {},
   "outputs": [],
   "source": [
    "#3. What is a nested loop in Python?\n",
    "A nested loop is a loop inside another loop. It is used to iterate over multiple sequences of items."
   ]
  },
  {
   "cell_type": "code",
   "execution_count": null,
   "id": "dfec102e",
   "metadata": {},
   "outputs": [],
   "source": [
    "#4. What is the use of the 'break' and 'continue' statements in a loop? \n",
    "\n",
    "The 'break' statement is used to immediately exit a loop, \n",
    "while the 'continue' statement is used to skip over the current iteration of a loop and move on to the next one."
   ]
  },
  {
   "cell_type": "code",
   "execution_count": null,
   "id": "30eb74da",
   "metadata": {},
   "outputs": [],
   "source": [
    "#5. Looping through a dictionary in Python:\n",
    "\n",
    "You can loop through a dictionary in Python using a 'for' loop. The 'for' loop will iterate over the keys of the dictionary.\n",
    "Here is an example:\n",
    "\n",
    "my_dict = {'name': 'John', 'age': 30, 'gender': 'male'}\n",
    "\n",
    "for key in my_dict:\n",
    "    print(key, my_dict[key])\n",
    "    \n",
    "In this example, the loop will iterate over the keys of the dictionary and print each key-value pair."
   ]
  },
  {
   "cell_type": "markdown",
   "id": "3e76bc46",
   "metadata": {},
   "source": [
    "# Functions"
   ]
  },
  {
   "cell_type": "code",
   "execution_count": null,
   "id": "bb618c41",
   "metadata": {},
   "outputs": [],
   "source": [
    "#1. What is a function in Python?\n",
    "\n",
    "A function is a block of code that performs a specific task. It can take input parameters and return output values."
   ]
  },
  {
   "cell_type": "code",
   "execution_count": null,
   "id": "fd4152ec",
   "metadata": {},
   "outputs": [],
   "source": [
    "#2. What is the difference between a function and a method in Python?\n",
    "\n",
    "In Python, a function is a standalone block of code that can be called independently, \n",
    "while a method is a function that is associated with an object and can only be called on that object."
   ]
  },
  {
   "cell_type": "code",
   "execution_count": null,
   "id": "65924e1f",
   "metadata": {},
   "outputs": [],
   "source": [
    "#3. What is the syntax for defining a function in Python?\n",
    "\n",
    "The syntax for defining a function in Python is:\n",
    "\n",
    "def function_name(parameters):\n",
    "    # function body\n",
    "    return output"
   ]
  },
  {
   "cell_type": "code",
   "execution_count": null,
   "id": "74226335",
   "metadata": {},
   "outputs": [],
   "source": [
    "#4. What is the difference between a positional and keyword argument in a function?\n",
    "\n",
    "A positional argument is an argument that is passed to a function based on its position in the argument list, \n",
    "while a keyword argument is an argument that is passed to a function based on its name.\n",
    "\n",
    "For example, in the following function call:\n",
    "\n",
    "scss\n",
    "Copy code\n",
    "my_function(1, 2, 3, arg4='four')\n",
    "1, 2, and 3 are positional arguments, while arg4 is a keyword argument."
   ]
  },
  {
   "cell_type": "code",
   "execution_count": null,
   "id": "02e3d58a",
   "metadata": {},
   "outputs": [],
   "source": [
    "#5. What is the use of a lambda function in Python?\n",
    "\n",
    "A lambda function is a small anonymous function that can be defined without a name. \n",
    "It is useful for simple operations that can be written in a single line of code. \n",
    "Lambda functions are commonly used with higher-order functions such as 'map', 'filter', and 'reduce'.\n",
    "They allow you to define functions on the fly without having to write a full function definition. \n",
    "\n",
    "Here is an example:\n",
    "\n",
    "my_list = [1, 2, 3, 4, 5]\n",
    "filtered_list = list(filter(lambda x: x % 2 == 0, my_list))\n",
    "\n",
    "In this example, \n",
    "the lambda function is used with the 'filter' function to create a new list that only contains the even numbers from the original list."
   ]
  }
 ],
 "metadata": {
  "kernelspec": {
   "display_name": "Python 3 (ipykernel)",
   "language": "python",
   "name": "python3"
  },
  "language_info": {
   "codemirror_mode": {
    "name": "ipython",
    "version": 3
   },
   "file_extension": ".py",
   "mimetype": "text/x-python",
   "name": "python",
   "nbconvert_exporter": "python",
   "pygments_lexer": "ipython3",
   "version": "3.9.13"
  }
 },
 "nbformat": 4,
 "nbformat_minor": 5
}
