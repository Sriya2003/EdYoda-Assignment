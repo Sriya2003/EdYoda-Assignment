{
 "cells": [
  {
   "cell_type": "markdown",
   "id": "20443669",
   "metadata": {},
   "source": [
    "# Question-1"
   ]
  },
  {
   "cell_type": "code",
   "execution_count": 1,
   "id": "31e00168",
   "metadata": {},
   "outputs": [
    {
     "name": "stdout",
     "output_type": "stream",
     "text": [
      "Orignal list :  [(2, 5), (1, 2), (4, 4), (2, 3), (2, 1)]\n",
      "Sorted list:  [(2, 1), (1, 2), (2, 3), (4, 4), (2, 5)]\n"
     ]
    }
   ],
   "source": [
    "#Write a Python program to get a list, sorted in increasing order by the last element in each tuple from a given list of non-empty tuples\n",
    "#orignal list :  [(2, 5), (1, 2), (4, 4), (2, 3), (2, 1)]\n",
    "#Sorted list:  [(2, 1), (1, 2), (2, 3), (4, 4), (2, 5)]\n",
    "\n",
    "Original_tuple=[(2,5), (1,2), (4,4), (2,3), (2,1)]\n",
    "print(\"Orignal list : \", Original_tuple)\n",
    "\n",
    "tuple_1=[]\n",
    "tuple_sorted=[]\n",
    "\n",
    "for i in Original_tuple:\n",
    "    tuple_1.append(i[1],)\n",
    "    x=sorted(tuple_1)\n",
    "for j in x:\n",
    "    for k in Original_tuple:\n",
    "        if j==int(k[1],):\n",
    "            tuple_sorted.append(k)\n",
    "print(\"Sorted list: \", tuple_sorted)"
   ]
  },
  {
   "cell_type": "markdown",
   "id": "15806687",
   "metadata": {},
   "source": [
    "# Question-2"
   ]
  },
  {
   "cell_type": "code",
   "execution_count": 2,
   "id": "df13d491",
   "metadata": {},
   "outputs": [
    {
     "name": "stdout",
     "output_type": "stream",
     "text": [
      "ASCII values are :  {'a': 97, 'b': 98, 'c': 99, 'd': 100, 'e': 101, 'f': 102, 'g': 103, 'h': 104, 'i': 105, 'j': 106, 'k': 107, 'l': 108, 'm': 109, 'n': 110, 'o': 111, 'p': 112, 'q': 113, 'r': 114, 's': 115, 't': 116, 'u': 117, 'v': 118, 'w': 119, 'x': 120, 'y': 121, 'z': 122}\n"
     ]
    }
   ],
   "source": [
    "#Write a Python program to print a dictionary whose keys should be the alphabet from a-z and the value should be corresponding ASCII values\n",
    "\n",
    "Ascii= {}\n",
    "\n",
    "for i in range(97, 97 + 26):\n",
    "    Ascii[chr(i)] = i\n",
    "\n",
    "print((\"ASCII values are : \"), Ascii)"
   ]
  },
  {
   "cell_type": "code",
   "execution_count": null,
   "id": "fdab138f",
   "metadata": {},
   "outputs": [],
   "source": []
  }
 ],
 "metadata": {
  "kernelspec": {
   "display_name": "Python 3 (ipykernel)",
   "language": "python",
   "name": "python3"
  },
  "language_info": {
   "codemirror_mode": {
    "name": "ipython",
    "version": 3
   },
   "file_extension": ".py",
   "mimetype": "text/x-python",
   "name": "python",
   "nbconvert_exporter": "python",
   "pygments_lexer": "ipython3",
   "version": "3.9.13"
  }
 },
 "nbformat": 4,
 "nbformat_minor": 5
}
