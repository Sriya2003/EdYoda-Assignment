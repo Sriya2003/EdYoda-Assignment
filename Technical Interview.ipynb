{
 "cells": [
  {
   "cell_type": "code",
   "execution_count": null,
   "id": "ec4ed2ad",
   "metadata": {},
   "outputs": [],
   "source": [
    "You will have a number of elements and in the next n lines element of a list. \n",
    "You have to create a list from the given strings. You have to sort the list based on 2nd last character of a string."
   ]
  },
  {
   "cell_type": "code",
   "execution_count": 1,
   "id": "fa08ae43",
   "metadata": {},
   "outputs": [
    {
     "name": "stdout",
     "output_type": "stream",
     "text": [
      "['great', 'abc', 'hello', 'hiyo']\n"
     ]
    }
   ],
   "source": [
    "def tas1(array):\n",
    "    array.sort(key=lambda x:x[-2])\n",
    "    return array\n",
    "# Execution \n",
    "\n",
    "array = ['great','hello','hiyo','abc']\n",
    "print(tas1(array))"
   ]
  },
  {
   "cell_type": "code",
   "execution_count": null,
   "id": "bcc4d69c",
   "metadata": {},
   "outputs": [],
   "source": [
    "Your task is to complete the validate_triangle and validate_rectangle functions for the classes.\n",
    "Hint for validating is given in the comments of the code. \n",
    "Also you will have to print the following after validation in respective functions:-\n",
    "\n",
    "1.Invalid Triangle: If the triangle sum property of sides is not valid(More hint in the comments of code)\n",
    "2.Valid Triangle: If the triangle sum property of sides is valid.\n",
    "3.Valid Rectangle: If 2 side pairs are same and they are input in correct order like l,b,l,b\n",
    "4.Invalid Rectangle: If Not Valid rectangle as stated above."
   ]
  },
  {
   "cell_type": "code",
   "execution_count": 2,
   "id": "90fb2d43",
   "metadata": {},
   "outputs": [
    {
     "name": "stdout",
     "output_type": "stream",
     "text": [
      "Valid Rectangle\n",
      "Valid Trangle\n"
     ]
    }
   ],
   "source": [
    "class Validation:\n",
    "    \n",
    "    def __init__(self,slides):\n",
    "        self.slides = slides\n",
    "    \n",
    "    def trangle_validtion(self):\n",
    "        a,b,c = self.slides\n",
    "        \n",
    "        if  b+c >c  or a+c >b or a+b>c:\n",
    "            return \"Valid Trangle\"\n",
    "        else:\n",
    "            return \"Invalid Trangle\"\n",
    "    \n",
    "    def rectangle_validation(self):\n",
    "        a,b,c,d = self.slides\n",
    "\n",
    "        if a==b and c ==d:\n",
    "            return \"Valid Rectangle\"\n",
    "        elif a ==c and b ==d:\n",
    "            return \"Valid Rectangle\"\n",
    "        elif a==d  and b ==c:\n",
    "            return  \"Valid Rectangle\"\n",
    "        else:\n",
    "            return \"Invalid Rectance\"\n",
    "\n",
    "check = Validation([2,4,4,2])\n",
    "print(check.rectangle_validation())\n",
    "\n",
    "check2 = Validation([3,4,5])\n",
    "print(check2.trangle_validtion())\n"
   ]
  },
  {
   "cell_type": "code",
   "execution_count": null,
   "id": "bdee2d0f",
   "metadata": {},
   "outputs": [],
   "source": []
  }
 ],
 "metadata": {
  "kernelspec": {
   "display_name": "Python 3 (ipykernel)",
   "language": "python",
   "name": "python3"
  },
  "language_info": {
   "codemirror_mode": {
    "name": "ipython",
    "version": 3
   },
   "file_extension": ".py",
   "mimetype": "text/x-python",
   "name": "python",
   "nbconvert_exporter": "python",
   "pygments_lexer": "ipython3",
   "version": "3.9.13"
  }
 },
 "nbformat": 4,
 "nbformat_minor": 5
}
