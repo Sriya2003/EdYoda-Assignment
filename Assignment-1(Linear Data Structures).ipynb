{
 "cells": [
  {
   "cell_type": "code",
   "execution_count": 1,
   "id": "18e2ae08",
   "metadata": {},
   "outputs": [
    {
     "name": "stdout",
     "output_type": "stream",
     "text": [
      "enter values of array separated by space : 1 2 3 4 5 6 7 8 9 10\n",
      "enter needed sum value: 5\n",
      "ans: [(1, 4), (2, 3)]\n"
     ]
    }
   ],
   "source": [
    "# Q1. Write a program to find all pairs of an integer array whose sum is equal to a given number?\n",
    "\n",
    "from itertools import combinations\n",
    "array = list(map(int, input(\"enter values of array separated by space : \").split()))\n",
    "given_num = int(input(\"enter needed sum value: \"))\n",
    "comb = combinations(array, 2)\n",
    "ans = [i for i in comb if sum(i) == given_num]\n",
    "print(\"ans:\", ans)"
   ]
  },
  {
   "cell_type": "code",
   "execution_count": 2,
   "id": "b1082432",
   "metadata": {},
   "outputs": [
    {
     "name": "stdout",
     "output_type": "stream",
     "text": [
      "enter values of array separated by space : 1 2 3 4 5 \n",
      "[5, 4, 3, 2, 1]\n"
     ]
    }
   ],
   "source": [
    "# Q2. Write a program to reverse an array in place? In place means you cannot create a new array. \n",
    "#You have to update the original array.\n",
    "\n",
    "array = list(map(int, input(\"enter values of array separated by space : \").split()))\n",
    "for i in range(len(array)//2):\n",
    "  array[i], array[-(i+1)] = array[-(i+1)], array[i]\n",
    "print(array)"
   ]
  },
  {
   "cell_type": "code",
   "execution_count": 1,
   "id": "38cc9b2a",
   "metadata": {},
   "outputs": [
    {
     "name": "stdout",
     "output_type": "stream",
     "text": [
      "Enter orignal string: hello world\n",
      "Enter test string: hello\n",
      "Strings are not rotations of each other\n"
     ]
    }
   ],
   "source": [
    "# Q3. Write a program to check if two strings are a rotation of each other?\n",
    "\n",
    "str1 = input(\"Enter orignal string: \")\n",
    "str2 = input(\"Enter test string: \")\n",
    "str1_str2 = \"\".join([str1, str2])\n",
    "if str1 == str2 or len(str1) != len(str2):\n",
    "  print(\"Strings are not rotations of each other\")\n",
    "else:\n",
    "  if str2 in str1_str2:\n",
    "    print(\"Strings are rotations of each other\")\n",
    "  else:\n",
    "    print(\"Strings are not rotations of each other\")"
   ]
  },
  {
   "cell_type": "code",
   "execution_count": 2,
   "id": "dd97c941",
   "metadata": {},
   "outputs": [
    {
     "name": "stdout",
     "output_type": "stream",
     "text": [
      "Enter string: sriya patro\n",
      "first non-repeated character is s\n"
     ]
    }
   ],
   "source": [
    "# Q4. Write a program to print the first non-repeated character from a string?\n",
    "\n",
    "from collections import Counter\n",
    "inp_str = input(\"Enter string: \")\n",
    "counter = Counter(inp_str)\n",
    "non_repeated = {inp_str.index(i):i for i in counter.keys() if counter[i] == 1}\n",
    "if non_repeated:\n",
    "  first_non_repeated = min(non_repeated.keys())\n",
    "  print(\"first non-repeated character is\", non_repeated[first_non_repeated])\n",
    "else:\n",
    "  print(\"all characters are repeated\")"
   ]
  },
  {
   "cell_type": "code",
   "execution_count": 3,
   "id": "24296bbf",
   "metadata": {},
   "outputs": [
    {
     "name": "stdout",
     "output_type": "stream",
     "text": [
      "Enter number of disks: 3\n",
      "move disk no 1 from rod 1 to rod 3\n",
      "move disk no 2 from rod 1 to rod 2\n",
      "move disk no 1 from rod 3 to rod 2\n",
      "move disk no 3 from rod 1 to rod 3\n",
      "move disk no 1 from rod 2 to rod 1\n",
      "move disk no 2 from rod 2 to rod 3\n",
      "move disk no 1 from rod 1 to rod 3\n"
     ]
    }
   ],
   "source": [
    "# Q5. Read about the Tower of Hanoi algorithm. Write a program to implement it.\n",
    "\n",
    "def print_instruction(n, st1, st2):\n",
    "  print(f\"move disk no {n} from rod {st1} to rod {st2}\")\n",
    "\n",
    "def tower_of_hanoi(n, start, end):\n",
    "  if n == 1:\n",
    "    print_instruction(n, start, end)\n",
    "  else:\n",
    "    other = 6 - (start + end)\n",
    "    tower_of_hanoi(n-1, start, other)\n",
    "    print_instruction(n, start, end)\n",
    "    tower_of_hanoi(n-1, other, end)\n",
    "\n",
    "n = int(input(\"Enter number of disks: \"))\n",
    "\n",
    "tower_of_hanoi(n, 1, 3)"
   ]
  },
  {
   "cell_type": "code",
   "execution_count": 5,
   "id": "2141c595",
   "metadata": {},
   "outputs": [
    {
     "name": "stdout",
     "output_type": "stream",
     "text": [
      "Enter postfix expression: AB+CD-*\n",
      "prefix expression is *+AB-CD\n"
     ]
    }
   ],
   "source": [
    "# Q6. Read about infix, prefix, and postfix expressions. Write a program to convert postfix to prefix expression.\n",
    "\n",
    "postfix = input(\"Enter postfix expression: \")\n",
    "s = []\n",
    "for i in postfix:\n",
    "  if i.isalnum():\n",
    "    s.append(i)\n",
    "  else:\n",
    "    op1 = s[-1]\n",
    "    op2 = s[-2]\n",
    "    s.pop()\n",
    "    s.pop()\n",
    "    s.append(i+op2+op1)\n",
    "print(\"prefix expression is\",*s)\n",
    "     "
   ]
  },
  {
   "cell_type": "code",
   "execution_count": 6,
   "id": "98fb362b",
   "metadata": {},
   "outputs": [
    {
     "name": "stdout",
     "output_type": "stream",
     "text": [
      "Enter prefix expression: *+AB-CD\n",
      "infix expression is ((A+B)*(C-D))\n"
     ]
    }
   ],
   "source": [
    "# Q7. Write a program to convert prefix expression to infix expression.\n",
    "\n",
    "prefix = input(\"Enter prefix expression: \")\n",
    "s = []\n",
    "for i in reversed(prefix):\n",
    "  if i.isalnum():\n",
    "    s.append(i)\n",
    "  else:\n",
    "    op1 = s[-1]\n",
    "    op2 = s[-2]\n",
    "    s.pop()\n",
    "    s.pop()\n",
    "    s.append(f\"({op1}{i}{op2})\")\n",
    "print(\"infix expression is\",*s)"
   ]
  },
  {
   "cell_type": "code",
   "execution_count": 2,
   "id": "fa98b83c",
   "metadata": {},
   "outputs": [
    {
     "name": "stdout",
     "output_type": "stream",
     "text": [
      "Enter Brackets expression: [()]{}{[()()]()}\n",
      "Balanced\n"
     ]
    }
   ],
   "source": [
    "# Q8. Write a program to check if all the brackets are closed in a given code snippet.\n",
    "\n",
    "expression = input(\"Enter Brackets expression: \")\n",
    "s = []\n",
    "o = \"{[(\"\n",
    "c = \"}])\"\n",
    "for i in expression:\n",
    "    if i in o:\n",
    "        s.append(i)\n",
    "    else:\n",
    "        if len(s) == 0:\n",
    "            print(\"Not Balanced\")\n",
    "            break\n",
    "            \n",
    "        b = s.pop()\n",
    "        if o.index(b) != c.index(i):\n",
    "            print(\"Not Balanced\")\n",
    "            break\n",
    "else:\n",
    "    if len(s) == 0:\n",
    "        print(\"Balanced\")\n",
    "    else:\n",
    "        print(\"Not Balanced\")"
   ]
  },
  {
   "cell_type": "code",
   "execution_count": 1,
   "id": "6bc89b47",
   "metadata": {},
   "outputs": [
    {
     "name": "stdout",
     "output_type": "stream",
     "text": [
      "enter values of stack separated by space : 1 2 3 4 5 6 7 8 9\n",
      "reversed stack is 9 8 7 6 5 4 3 2 1\n"
     ]
    }
   ],
   "source": [
    "# Q9. Write a program to reverse a stack.\n",
    "\n",
    "stack = list(map(int, input(\"enter values of stack separated by space : \").split()))\n",
    "rev_stack = []\n",
    "for _ in range(len(stack)):\n",
    "  rev_stack.append(stack.pop())\n",
    "print(\"reversed stack is\",*rev_stack)"
   ]
  },
  {
   "cell_type": "code",
   "execution_count": 3,
   "id": "4e38bdc0",
   "metadata": {},
   "outputs": [
    {
     "name": "stdout",
     "output_type": "stream",
     "text": [
      "enter values of stack separated by space :  8 6 9 5 4 7 5 3 9 5 2\n",
      "smallest number in given stack is 2\n"
     ]
    }
   ],
   "source": [
    "# Q10. Write a program to find the smallest number using a stack.\n",
    "\n",
    "stack = list(map(int, input(\"enter values of stack separated by space : \").split()))\n",
    "sm_num = stack.pop()\n",
    "for _ in range(len(stack)):\n",
    "  i = stack.pop()\n",
    "  if i < sm_num:\n",
    "    sm_num = i\n",
    "print(f\"smallest number in given stack is {sm_num}\")"
   ]
  },
  {
   "cell_type": "code",
   "execution_count": null,
   "id": "814b3edf",
   "metadata": {},
   "outputs": [],
   "source": []
  }
 ],
 "metadata": {
  "kernelspec": {
   "display_name": "Python 3 (ipykernel)",
   "language": "python",
   "name": "python3"
  },
  "language_info": {
   "codemirror_mode": {
    "name": "ipython",
    "version": 3
   },
   "file_extension": ".py",
   "mimetype": "text/x-python",
   "name": "python",
   "nbconvert_exporter": "python",
   "pygments_lexer": "ipython3",
   "version": "3.9.13"
  }
 },
 "nbformat": 4,
 "nbformat_minor": 5
}
