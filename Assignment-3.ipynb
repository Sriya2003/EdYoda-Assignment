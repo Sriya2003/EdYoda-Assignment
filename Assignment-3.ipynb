{
 "cells": [
  {
   "cell_type": "markdown",
   "id": "019065bc",
   "metadata": {},
   "source": [
    "# Question-1"
   ]
  },
  {
   "cell_type": "code",
   "execution_count": 1,
   "id": "8910a178",
   "metadata": {},
   "outputs": [
    {
     "name": "stdout",
     "output_type": "stream",
     "text": [
      "Sum Of Numbers Are :  20\n"
     ]
    }
   ],
   "source": [
    "# Write a Python function to sum all the numbers in a list.\n",
    "# Sample List : (8, 2, 3, 0, 7) \n",
    "# Expected Output : 20\n",
    "\n",
    "# Explanation:\n",
    "# Summation should like 8+2+3+0+7 = 20\n",
    "\n",
    "Sample_List=(8,2,3,0,7)\n",
    "def sum(Sample_List):\n",
    "    sum1=0\n",
    "    for i in Sample_List:\n",
    "        sum1=sum1+i\n",
    "    return sum1\n",
    "print(\"Sum Of Numbers Are : \" , sum(Sample_List))"
   ]
  },
  {
   "cell_type": "markdown",
   "id": "7bffff2a",
   "metadata": {},
   "source": [
    "# Question-2"
   ]
  },
  {
   "cell_type": "code",
   "execution_count": 1,
   "id": "7669b293",
   "metadata": {},
   "outputs": [
    {
     "name": "stdout",
     "output_type": "stream",
     "text": [
      "Enter a sample string: 1234abcd\n",
      "Reversed string is :  dcba4321\n"
     ]
    }
   ],
   "source": [
    "# Write a Python program to reverse a string.\n",
    "# Sample String : \"1234abcd\" \n",
    "# Expected Output : \"dcba4321\"\n",
    "\n",
    "def reverse_string(x):\n",
    "    return x[::-1]\n",
    "string=str(input(\"Enter a sample string: \"))\n",
    "string=reverse_string(string)\n",
    "print(\"Reversed string is : \", string)\n"
   ]
  },
  {
   "cell_type": "markdown",
   "id": "44bf817b",
   "metadata": {},
   "source": [
    "# Question-3"
   ]
  },
  {
   "cell_type": "code",
   "execution_count": 2,
   "id": "718e07fb",
   "metadata": {},
   "outputs": [
    {
     "name": "stdout",
     "output_type": "stream",
     "text": [
      "Enter sample string : The quick Brow Fox\n",
      "Upper case letters is :  3\n",
      "Lower case letters is :  12\n"
     ]
    }
   ],
   "source": [
    "# Write a Python function that accepts a string and calculate the number of upper case letters and lower case letters.\n",
    "# Sample String : 'The quick Brow Fox'\n",
    "\n",
    "# Expected Output :\n",
    "\n",
    "# No. of Upper case characters : 3\n",
    "# No. of Lower case Characters : 12\n",
    "\n",
    "a=input(\"Enter sample string : \")\n",
    "def string(a):\n",
    "    upper_value=0\n",
    "    lower_value=0\n",
    "    for i in a:\n",
    "        if i.isupper():\n",
    "            upper_value=upper_value+1\n",
    "        elif i.islower():\n",
    "            lower_value=lower_value+1\n",
    "    print(\"Upper case letters is : \", upper_value)\n",
    "    print(\"Lower case letters is : \", lower_value)\n",
    "string(a)"
   ]
  },
  {
   "cell_type": "code",
   "execution_count": null,
   "id": "cde1a762",
   "metadata": {},
   "outputs": [],
   "source": []
  }
 ],
 "metadata": {
  "kernelspec": {
   "display_name": "Python 3 (ipykernel)",
   "language": "python",
   "name": "python3"
  },
  "language_info": {
   "codemirror_mode": {
    "name": "ipython",
    "version": 3
   },
   "file_extension": ".py",
   "mimetype": "text/x-python",
   "name": "python",
   "nbconvert_exporter": "python",
   "pygments_lexer": "ipython3",
   "version": "3.9.13"
  }
 },
 "nbformat": 4,
 "nbformat_minor": 5
}
